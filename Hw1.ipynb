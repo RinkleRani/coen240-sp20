{
 "cells": [
  {
   "cell_type": "markdown",
   "metadata": {},
   "source": [
    "## Solution for Problems 3.b and 3.c on Homework 1"
   ]
  },
  {
   "cell_type": "code",
   "execution_count": 1,
   "metadata": {},
   "outputs": [],
   "source": [
    "import pandas as pd\n",
    "import numpy as np\n",
    "import matplotlib.pyplot as plt"
   ]
  },
  {
   "cell_type": "markdown",
   "metadata": {},
   "source": [
    "Read data and transform into numpy arrays. We will also add the 1's in the $x_0$ position."
   ]
  },
  {
   "cell_type": "code",
   "execution_count": 2,
   "metadata": {},
   "outputs": [
    {
     "data": {
      "text/plain": [
       "(array([[ 1.        ,  1.3432504 , -1.3311479 ],\n",
       "        [ 1.        ,  1.8205529 , -0.6346681 ],\n",
       "        [ 1.        ,  0.98632067, -1.8885762 ],\n",
       "        [ 1.        ,  1.9443734 , -1.635452  ],\n",
       "        [ 1.        ,  0.97673352, -1.3533151 ]]),\n",
       " array([-1, -1, -1, -1, -1]))"
      ]
     },
     "execution_count": 2,
     "metadata": {},
     "output_type": "execute_result"
    }
   ],
   "source": [
    "df_X = pd.read_csv('data/x.txt', sep='\\ +', names=[\"x1\",\"x2\"], header=None, engine='python')\n",
    "df_y = pd.read_csv('data/y.txt', sep='\\ +', names=[\"y\"], header=None, engine='python')\n",
    "df_y = df_y.astype(int)\n",
    "X = np.hstack([np.ones((df_X.shape[0], 1)), df_X.values])\n",
    "y = df_y[\"y\"].values\n",
    "X[:5,:], y[:5]"
   ]
  },
  {
   "cell_type": "markdown",
   "metadata": {},
   "source": [
    "Define the necessary functions for computing the Hessian, the gradient, and finding $\\theta$ via Newton's method, i.e.\n",
    "\n",
    "$$\\theta:=\\theta-H^{-1}\\nabla_\\theta J(\\theta).$$"
   ]
  },
  {
   "cell_type": "code",
   "execution_count": 3,
   "metadata": {},
   "outputs": [],
   "source": [
    "def sigmoid(X):\n",
    "    return 1/(1+np.exp(-X))\n",
    "\n",
    "def gradient(theta, X, y):\n",
    "    z = y * X.dot(theta)\n",
    "    g = -np.mean((1.0-sigmoid(z)) * y * X.T, axis=1)\n",
    "    return g\n",
    "\n",
    "def hessian(theta, X, y):\n",
    "    m = X.shape[1]\n",
    "    h = np.zeros((m, m))\n",
    "    z = y * X.dot(theta)\n",
    "    for i in range(m):\n",
    "        for j in range(m):\n",
    "            if i <= j: # take advantage of symmetry\n",
    "                h[i][j] = h[j][i] = np.mean(sigmoid(z) * (1 - sigmoid(z)) * X[:,i] * X[:,j])\n",
    "    return h\n",
    "\n",
    "def newton(theta0, X, y, eps=1e-6):\n",
    "    theta = theta0\n",
    "    delta = 1\n",
    "    while delta > eps:\n",
    "        last_theta = theta.copy()\n",
    "        H = hessian(theta, X, y)\n",
    "        g = gradient(theta, X, y)\n",
    "        theta -= np.linalg.inv(H).dot(g)\n",
    "        delta = np.linalg.norm(theta - last_theta, ord=1)\n",
    "    return theta"
   ]
  },
  {
   "cell_type": "markdown",
   "metadata": {},
   "source": [
    "Compute the best parameters."
   ]
  },
  {
   "cell_type": "code",
   "execution_count": 4,
   "metadata": {},
   "outputs": [
    {
     "data": {
      "text/plain": [
       "array([-2.6205116 ,  0.76037154,  1.17194674])"
      ]
     },
     "execution_count": 4,
     "metadata": {},
     "output_type": "execute_result"
    }
   ],
   "source": [
    "theta0 = np.zeros(X.shape[1])\n",
    "theta = newton(theta0, X, y)\n",
    "theta"
   ]
  },
  {
   "cell_type": "markdown",
   "metadata": {},
   "source": [
    "Plot the points and the decision boundary."
   ]
  },
  {
   "cell_type": "code",
   "execution_count": 5,
   "metadata": {},
   "outputs": [
    {
     "data": {
      "text/plain": [
       "[<matplotlib.lines.Line2D at 0x7facf0cacf90>]"
      ]
     },
     "execution_count": 5,
     "metadata": {},
     "output_type": "execute_result"
    },
    {
     "data": {
      "image/png": "[encoded data removed]",
      "text/plain": [
       "<Figure size 432x288 with 1 Axes>"
      ]
     },
     "metadata": {
      "needs_background": "light"
     },
     "output_type": "display_data"
    }
   ],
   "source": [
    "# Add y to the X dataframe\n",
    "df_X[\"y\"] = y\n",
    "# Plot points\n",
    "ax1 = df_X[y == -1].plot(kind='scatter', x='x1', y='x2', color='r', label='-')\n",
    "ax2 = df_X[y == 1].plot(kind='scatter', x='x1', y='x2', color='b', label='+', ax=ax1)\n",
    "# get points to plot on the decision boundary\n",
    "x = np.linspace(df_X[\"x1\"].min(), df_X[\"x1\"].max(), 2)\n",
    "# Plot decision boundary\n",
    "plt.plot(x,(-x*theta[1]-theta[0])/theta[2], color=\"green\")"
   ]
  }
 ],
 "metadata": {
  "kernelspec": {
   "display_name": "Python 3",
   "language": "python",
   "name": "python3"
  },
  "language_info": {
   "codemirror_mode": {
    "name": "ipython",
    "version": 3
   },
   "file_extension": ".py",
   "mimetype": "text/x-python",
   "name": "python",
   "nbconvert_exporter": "python",
   "pygments_lexer": "ipython3",
   "version": "3.7.6"
  }
 },
 "nbformat": 4,
 "nbformat_minor": 4
}
